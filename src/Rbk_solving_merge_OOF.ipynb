{
 "cells": [
  {
   "cell_type": "code",
   "execution_count": 30,
   "id": "b2abb1e1",
   "metadata": {},
   "outputs": [],
   "source": [
    "import pandas as pd"
   ]
  },
  {
   "cell_type": "code",
   "execution_count": 31,
   "id": "4899d098",
   "metadata": {},
   "outputs": [],
   "source": [
    "solution1 = pd.read_csv(\"solution_multi_RandomSeed1.csv\",index_col=0)\n",
    "solution2 = pd.read_csv(\"solution_multi_RandomSeed2.csv\",index_col=0)\n",
    "solution3 = pd.read_csv(\"solution_multi_RandomSeed3.csv\",index_col=0)\n",
    "solution4 = pd.read_csv(\"solution_multi_RandomSeed4.csv\",index_col=0)\n",
    "solution5 = pd.read_csv(\"solution_multi_RandomSeed5.csv\",index_col=0)"
   ]
  },
  {
   "cell_type": "code",
   "execution_count": 32,
   "id": "34c16c80",
   "metadata": {},
   "outputs": [
    {
     "data": {
      "text/html": [
       "<div>\n",
       "<style scoped>\n",
       "    .dataframe tbody tr th:only-of-type {\n",
       "        vertical-align: middle;\n",
       "    }\n",
       "\n",
       "    .dataframe tbody tr th {\n",
       "        vertical-align: top;\n",
       "    }\n",
       "\n",
       "    .dataframe thead th {\n",
       "        text-align: right;\n",
       "    }\n",
       "</style>\n",
       "<table border=\"1\" class=\"dataframe\">\n",
       "  <thead>\n",
       "    <tr style=\"text-align: right;\">\n",
       "      <th></th>\n",
       "      <th>views</th>\n",
       "      <th>depth</th>\n",
       "      <th>full_reads_percent</th>\n",
       "    </tr>\n",
       "    <tr>\n",
       "      <th>document_id</th>\n",
       "      <th></th>\n",
       "      <th></th>\n",
       "      <th></th>\n",
       "    </tr>\n",
       "  </thead>\n",
       "  <tbody>\n",
       "    <tr>\n",
       "      <th>61f9569a9a794794245a82abJ0AvX96vTAaQCiWVbzoMdw</th>\n",
       "      <td>15558.676678</td>\n",
       "      <td>1.195789</td>\n",
       "      <td>41.524354</td>\n",
       "    </tr>\n",
       "    <tr>\n",
       "      <th>628c22b89a79470e553f594bQS5CqzXYRnmDdR2LaSreEw</th>\n",
       "      <td>3185.592314</td>\n",
       "      <td>1.054312</td>\n",
       "      <td>37.735715</td>\n",
       "    </tr>\n",
       "    <tr>\n",
       "      <th>627cb3249a7947ebdd752865XVsoyrUOT8OJJg2_finJhw</th>\n",
       "      <td>5966.689724</td>\n",
       "      <td>1.065407</td>\n",
       "      <td>36.980521</td>\n",
       "    </tr>\n",
       "    <tr>\n",
       "      <th>628618629a7947d4927eb812upfii3whSSuMXCqcqF8VbQ</th>\n",
       "      <td>3203.399813</td>\n",
       "      <td>1.063563</td>\n",
       "      <td>36.737562</td>\n",
       "    </tr>\n",
       "    <tr>\n",
       "      <th>620e76109a7947235623695b5hzCiIHdSYKQIr8WAM18bw</th>\n",
       "      <td>144038.764198</td>\n",
       "      <td>1.141753</td>\n",
       "      <td>31.436939</td>\n",
       "    </tr>\n",
       "  </tbody>\n",
       "</table>\n",
       "</div>"
      ],
      "text/plain": [
       "                                                        views     depth  \\\n",
       "document_id                                                               \n",
       "61f9569a9a794794245a82abJ0AvX96vTAaQCiWVbzoMdw   15558.676678  1.195789   \n",
       "628c22b89a79470e553f594bQS5CqzXYRnmDdR2LaSreEw    3185.592314  1.054312   \n",
       "627cb3249a7947ebdd752865XVsoyrUOT8OJJg2_finJhw    5966.689724  1.065407   \n",
       "628618629a7947d4927eb812upfii3whSSuMXCqcqF8VbQ    3203.399813  1.063563   \n",
       "620e76109a7947235623695b5hzCiIHdSYKQIr8WAM18bw  144038.764198  1.141753   \n",
       "\n",
       "                                                full_reads_percent  \n",
       "document_id                                                         \n",
       "61f9569a9a794794245a82abJ0AvX96vTAaQCiWVbzoMdw           41.524354  \n",
       "628c22b89a79470e553f594bQS5CqzXYRnmDdR2LaSreEw           37.735715  \n",
       "627cb3249a7947ebdd752865XVsoyrUOT8OJJg2_finJhw           36.980521  \n",
       "628618629a7947d4927eb812upfii3whSSuMXCqcqF8VbQ           36.737562  \n",
       "620e76109a7947235623695b5hzCiIHdSYKQIr8WAM18bw           31.436939  "
      ]
     },
     "execution_count": 32,
     "metadata": {},
     "output_type": "execute_result"
    }
   ],
   "source": [
    "solution1.head()"
   ]
  },
  {
   "cell_type": "code",
   "execution_count": 33,
   "id": "6155b4fb",
   "metadata": {},
   "outputs": [],
   "source": [
    "solution= solution1.copy()\n",
    "solution['views'] = (solution1['views'] + solution2['views']+solution3['views'] + solution4['views']+ solution5['views'])/5\n",
    "solution['depth'] = (solution1['depth'] + solution2['depth']+solution3['depth'] + solution4['depth']+ solution5['depth'])/5\n",
    "solution['full_reads_percent'] = (solution1['full_reads_percent'] + solution2['full_reads_percent']+solution3['full_reads_percent'] + solution4['full_reads_percent']+ solution5['full_reads_percent'])/5"
   ]
  },
  {
   "cell_type": "code",
   "execution_count": 34,
   "id": "dde8e87a",
   "metadata": {},
   "outputs": [
    {
     "data": {
      "text/html": [
       "<div>\n",
       "<style scoped>\n",
       "    .dataframe tbody tr th:only-of-type {\n",
       "        vertical-align: middle;\n",
       "    }\n",
       "\n",
       "    .dataframe tbody tr th {\n",
       "        vertical-align: top;\n",
       "    }\n",
       "\n",
       "    .dataframe thead th {\n",
       "        text-align: right;\n",
       "    }\n",
       "</style>\n",
       "<table border=\"1\" class=\"dataframe\">\n",
       "  <thead>\n",
       "    <tr style=\"text-align: right;\">\n",
       "      <th></th>\n",
       "      <th>views</th>\n",
       "      <th>depth</th>\n",
       "      <th>full_reads_percent</th>\n",
       "    </tr>\n",
       "    <tr>\n",
       "      <th>document_id</th>\n",
       "      <th></th>\n",
       "      <th></th>\n",
       "      <th></th>\n",
       "    </tr>\n",
       "  </thead>\n",
       "  <tbody>\n",
       "    <tr>\n",
       "      <th>61f9569a9a794794245a82abJ0AvX96vTAaQCiWVbzoMdw</th>\n",
       "      <td>15721.275318</td>\n",
       "      <td>1.189508</td>\n",
       "      <td>40.615378</td>\n",
       "    </tr>\n",
       "    <tr>\n",
       "      <th>628c22b89a79470e553f594bQS5CqzXYRnmDdR2LaSreEw</th>\n",
       "      <td>3108.301193</td>\n",
       "      <td>1.055524</td>\n",
       "      <td>37.578924</td>\n",
       "    </tr>\n",
       "    <tr>\n",
       "      <th>627cb3249a7947ebdd752865XVsoyrUOT8OJJg2_finJhw</th>\n",
       "      <td>7798.838798</td>\n",
       "      <td>1.064559</td>\n",
       "      <td>35.416376</td>\n",
       "    </tr>\n",
       "    <tr>\n",
       "      <th>628618629a7947d4927eb812upfii3whSSuMXCqcqF8VbQ</th>\n",
       "      <td>5183.404311</td>\n",
       "      <td>1.062666</td>\n",
       "      <td>39.428972</td>\n",
       "    </tr>\n",
       "    <tr>\n",
       "      <th>620e76109a7947235623695b5hzCiIHdSYKQIr8WAM18bw</th>\n",
       "      <td>127280.264837</td>\n",
       "      <td>1.138811</td>\n",
       "      <td>30.752875</td>\n",
       "    </tr>\n",
       "  </tbody>\n",
       "</table>\n",
       "</div>"
      ],
      "text/plain": [
       "                                                        views     depth  \\\n",
       "document_id                                                               \n",
       "61f9569a9a794794245a82abJ0AvX96vTAaQCiWVbzoMdw   15721.275318  1.189508   \n",
       "628c22b89a79470e553f594bQS5CqzXYRnmDdR2LaSreEw    3108.301193  1.055524   \n",
       "627cb3249a7947ebdd752865XVsoyrUOT8OJJg2_finJhw    7798.838798  1.064559   \n",
       "628618629a7947d4927eb812upfii3whSSuMXCqcqF8VbQ    5183.404311  1.062666   \n",
       "620e76109a7947235623695b5hzCiIHdSYKQIr8WAM18bw  127280.264837  1.138811   \n",
       "\n",
       "                                                full_reads_percent  \n",
       "document_id                                                         \n",
       "61f9569a9a794794245a82abJ0AvX96vTAaQCiWVbzoMdw           40.615378  \n",
       "628c22b89a79470e553f594bQS5CqzXYRnmDdR2LaSreEw           37.578924  \n",
       "627cb3249a7947ebdd752865XVsoyrUOT8OJJg2_finJhw           35.416376  \n",
       "628618629a7947d4927eb812upfii3whSSuMXCqcqF8VbQ           39.428972  \n",
       "620e76109a7947235623695b5hzCiIHdSYKQIr8WAM18bw           30.752875  "
      ]
     },
     "execution_count": 34,
     "metadata": {},
     "output_type": "execute_result"
    }
   ],
   "source": [
    "solution.head()"
   ]
  },
  {
   "cell_type": "code",
   "execution_count": 35,
   "id": "9090ac8d",
   "metadata": {},
   "outputs": [],
   "source": [
    "solution.to_csv('solution_multi_all.csv')"
   ]
  },
  {
   "cell_type": "code",
   "execution_count": null,
   "id": "4f2ba1cb",
   "metadata": {},
   "outputs": [],
   "source": []
  }
 ],
 "metadata": {
  "kernelspec": {
   "display_name": "Python 3 (ipykernel)",
   "language": "python",
   "name": "python3"
  },
  "language_info": {
   "codemirror_mode": {
    "name": "ipython",
    "version": 3
   },
   "file_extension": ".py",
   "mimetype": "text/x-python",
   "name": "python",
   "nbconvert_exporter": "python",
   "pygments_lexer": "ipython3",
   "version": "3.9.12"
  }
 },
 "nbformat": 4,
 "nbformat_minor": 5
}
